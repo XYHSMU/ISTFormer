{
 "cells": [
  {
   "cell_type": "code",
   "outputs": [
    {
     "name": "stdout",
     "output_type": "stream",
     "text": [
      "model load successfully\n",
      "data//PEMS08\\PEMS08.npz\n",
      "scaler:mean:229.9842003352646,std:145.60115060481453\n",
      "x_train.shape:(10691, 12, 170, 3),x_val.shape:(3548, 12, 170, 3),x_test.shape:(3548, 12, 170, 3)\n",
      "y_train.shape:(10691, 12, 170, 3),y_val.shape:(3548, 12, 170, 3),y_test.shape:(3548, 12, 170, 3)\n",
      "Perform shuffle on the dataset\n",
      "Evaluate best model on test data for horizon 1, Test MAE: 11.9928, Test MAPE: 0.0802, Test RMSE: 19.5819, Test WMAPE: 0.0517\n",
      "Evaluate best model on test data for horizon 2, Test MAE: 12.4873, Test MAPE: 0.0832, Test RMSE: 20.6473, Test WMAPE: 0.0539\n",
      "Evaluate best model on test data for horizon 3, Test MAE: 12.8426, Test MAPE: 0.0854, Test RMSE: 21.4675, Test WMAPE: 0.0554\n",
      "Evaluate best model on test data for horizon 4, Test MAE: 13.1888, Test MAPE: 0.0887, Test RMSE: 22.1750, Test WMAPE: 0.0569\n",
      "Evaluate best model on test data for horizon 5, Test MAE: 13.5166, Test MAPE: 0.0895, Test RMSE: 22.8008, Test WMAPE: 0.0583\n",
      "Evaluate best model on test data for horizon 6, Test MAE: 13.8677, Test MAPE: 0.0918, Test RMSE: 23.4241, Test WMAPE: 0.0599\n",
      "Evaluate best model on test data for horizon 7, Test MAE: 14.1325, Test MAPE: 0.0950, Test RMSE: 23.9362, Test WMAPE: 0.0610\n",
      "Evaluate best model on test data for horizon 8, Test MAE: 14.3585, Test MAPE: 0.0950, Test RMSE: 24.3698, Test WMAPE: 0.0620\n",
      "Evaluate best model on test data for horizon 9, Test MAE: 14.5597, Test MAPE: 0.0964, Test RMSE: 24.7585, Test WMAPE: 0.0629\n",
      "Evaluate best model on test data for horizon 10, Test MAE: 14.9389, Test MAPE: 0.1004, Test RMSE: 25.2232, Test WMAPE: 0.0646\n",
      "Evaluate best model on test data for horizon 11, Test MAE: 15.1886, Test MAPE: 0.1008, Test RMSE: 25.6278, Test WMAPE: 0.0657\n",
      "Evaluate best model on test data for horizon 12, Test MAE: 15.4475, Test MAPE: 0.1026, Test RMSE: 26.0268, Test WMAPE: 0.0668\n",
      "On average over 12 horizons, Test MAE: 13.8768, Test MAPE: 0.0924, Test RMSE: 23.3366, Test WMAPE: 0.0599\n"
     ]
    }
   ],
   "source": [
    "%run ISTFtest.py --data PEMS08 --checkpoint './logs/PEMS08epoch100_20240426_ISTFormer_use_selfembandtemattention'PEMS08/best_model.pth"
   ],
   "metadata": {
    "collapsed": false,
    "ExecuteTime": {
     "end_time": "2024-05-21T13:28:10.839384Z",
     "start_time": "2024-05-21T13:27:52.264605Z"
    }
   },
   "id": "102e797d5f37dfb9",
   "execution_count": 1
  },
  {
   "cell_type": "code",
   "outputs": [
    {
     "name": "stdout",
     "output_type": "stream",
     "text": [
      "model load successfully\n",
      "data//PEMS04\\PEMS04.npz\n",
      "scaler:mean:207.14156436010714,std:156.46075221136476\n",
      "x_train.shape:(10172, 12, 307, 3),x_val.shape:(3376, 12, 307, 3),x_test.shape:(3375, 12, 307, 3)\n",
      "y_train.shape:(10172, 12, 307, 3),y_val.shape:(3376, 12, 307, 3),y_test.shape:(3375, 12, 307, 3)\n",
      "Perform shuffle on the dataset\n",
      "Evaluate best model on test data for horizon 1, Test MAE: 16.7471, Test MAPE: 0.1141, Test RMSE: 27.2070, Test WMAPE: 0.0759\n",
      "Evaluate best model on test data for horizon 2, Test MAE: 17.2562, Test MAPE: 0.1172, Test RMSE: 28.1965, Test WMAPE: 0.0782\n",
      "Evaluate best model on test data for horizon 3, Test MAE: 17.6386, Test MAPE: 0.1199, Test RMSE: 28.9747, Test WMAPE: 0.0799\n",
      "Evaluate best model on test data for horizon 4, Test MAE: 17.9343, Test MAPE: 0.1230, Test RMSE: 29.5542, Test WMAPE: 0.0813\n",
      "Evaluate best model on test data for horizon 5, Test MAE: 18.2089, Test MAPE: 0.1232, Test RMSE: 30.0500, Test WMAPE: 0.0825\n",
      "Evaluate best model on test data for horizon 6, Test MAE: 18.4532, Test MAPE: 0.1253, Test RMSE: 30.4984, Test WMAPE: 0.0836\n",
      "Evaluate best model on test data for horizon 7, Test MAE: 18.6184, Test MAPE: 0.1269, Test RMSE: 30.7973, Test WMAPE: 0.0844\n",
      "Evaluate best model on test data for horizon 8, Test MAE: 18.8354, Test MAPE: 0.1276, Test RMSE: 31.1528, Test WMAPE: 0.0854\n",
      "Evaluate best model on test data for horizon 9, Test MAE: 19.0476, Test MAPE: 0.1289, Test RMSE: 31.5304, Test WMAPE: 0.0863\n",
      "Evaluate best model on test data for horizon 10, Test MAE: 19.1850, Test MAPE: 0.1298, Test RMSE: 31.7398, Test WMAPE: 0.0870\n",
      "Evaluate best model on test data for horizon 11, Test MAE: 19.3727, Test MAPE: 0.1312, Test RMSE: 31.9879, Test WMAPE: 0.0878\n",
      "Evaluate best model on test data for horizon 12, Test MAE: 19.5938, Test MAPE: 0.1333, Test RMSE: 32.3695, Test WMAPE: 0.0888\n",
      "On average over 12 horizons, Test MAE: 18.4076, Test MAPE: 0.1250, Test RMSE: 30.3382, Test WMAPE: 0.0834\n"
     ]
    }
   ],
   "source": [
    "%run ISTFtest.py --data PEMS04 --checkpoint '/logs/PEMS04epoch100_20240426_ISTFormer_use_selfembandtemattention'PEMS04/best_model.pth"
   ],
   "metadata": {
    "collapsed": false,
    "ExecuteTime": {
     "end_time": "2024-05-21T13:28:53.999406Z",
     "start_time": "2024-05-21T13:28:20.902152Z"
    }
   },
   "id": "3d91fbd179a012ee",
   "execution_count": 1
  },
  {
   "cell_type": "code",
   "outputs": [
    {
     "name": "stdout",
     "output_type": "stream",
     "text": [
      "model load successfully\n",
      "data//PEMS04\\PEMS04.npz\n",
      "scaler:mean:207.14156436010714,std:156.46075221136476\n",
      "x_train.shape:(10172, 12, 307, 3),x_val.shape:(3376, 12, 307, 3),x_test.shape:(3375, 12, 307, 3)\n",
      "y_train.shape:(10172, 12, 307, 3),y_val.shape:(3376, 12, 307, 3),y_test.shape:(3375, 12, 307, 3)\n",
      "Perform shuffle on the dataset\n",
      "Evaluate best model on test data for horizon 1, Test MAE: 16.8078, Test MAPE: 0.1181, Test RMSE: 27.1983, Test WMAPE: 0.0762\n",
      "Evaluate best model on test data for horizon 2, Test MAE: 17.2848, Test MAPE: 0.1209, Test RMSE: 28.1202, Test WMAPE: 0.0783\n",
      "Evaluate best model on test data for horizon 3, Test MAE: 17.6311, Test MAPE: 0.1231, Test RMSE: 28.7459, Test WMAPE: 0.0799\n",
      "Evaluate best model on test data for horizon 4, Test MAE: 17.9047, Test MAPE: 0.1240, Test RMSE: 29.2436, Test WMAPE: 0.0811\n",
      "Evaluate best model on test data for horizon 5, Test MAE: 18.1601, Test MAPE: 0.1246, Test RMSE: 29.7098, Test WMAPE: 0.0823\n",
      "Evaluate best model on test data for horizon 6, Test MAE: 18.3802, Test MAPE: 0.1277, Test RMSE: 30.0716, Test WMAPE: 0.0833\n",
      "Evaluate best model on test data for horizon 7, Test MAE: 18.6083, Test MAPE: 0.1299, Test RMSE: 30.4246, Test WMAPE: 0.0843\n",
      "Evaluate best model on test data for horizon 8, Test MAE: 18.7940, Test MAPE: 0.1305, Test RMSE: 30.7378, Test WMAPE: 0.0852\n",
      "Evaluate best model on test data for horizon 9, Test MAE: 18.9942, Test MAPE: 0.1338, Test RMSE: 31.0407, Test WMAPE: 0.0861\n",
      "Evaluate best model on test data for horizon 10, Test MAE: 19.1316, Test MAPE: 0.1319, Test RMSE: 31.2714, Test WMAPE: 0.0867\n",
      "Evaluate best model on test data for horizon 11, Test MAE: 19.2791, Test MAPE: 0.1345, Test RMSE: 31.4737, Test WMAPE: 0.0874\n",
      "Evaluate best model on test data for horizon 12, Test MAE: 19.5309, Test MAPE: 0.1364, Test RMSE: 31.8043, Test WMAPE: 0.0885\n",
      "On average over 12 horizons, Test MAE: 18.3756, Test MAPE: 0.1280, Test RMSE: 29.9868, Test WMAPE: 0.0833\n"
     ]
    }
   ],
   "source": [
    "%run ISTFtest.py --data PEMS04 --checkpoint '/logs/epoch40_20240615'PEMS04/best_model.pth"
   ],
   "metadata": {
    "collapsed": false,
    "ExecuteTime": {
     "end_time": "2024-06-16T01:54:26.062993Z",
     "start_time": "2024-06-16T01:53:53.577052Z"
    }
   },
   "id": "8cc544a90b84f802",
   "execution_count": 2
  },
  {
   "cell_type": "code",
   "outputs": [],
   "source": [],
   "metadata": {
    "collapsed": false
   },
   "id": "157b838ac62cbc97"
  }
 ],
 "metadata": {
  "kernelspec": {
   "display_name": "Python 3",
   "language": "python",
   "name": "python3"
  },
  "language_info": {
   "codemirror_mode": {
    "name": "ipython",
    "version": 2
   },
   "file_extension": ".py",
   "mimetype": "text/x-python",
   "name": "python",
   "nbconvert_exporter": "python",
   "pygments_lexer": "ipython2",
   "version": "2.7.6"
  }
 },
 "nbformat": 4,
 "nbformat_minor": 5
}
