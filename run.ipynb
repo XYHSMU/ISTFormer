{
 "cells": [
  {
   "cell_type": "code",
   "execution_count": null,
   "id": "initial_id",
   "metadata": {
    "collapsed": true
   },
   "outputs": [],
   "source": [
    "%run ISTFtrainer.py --data PEMS08 --epochs 40 --save './logs/epoch40_20240615'"
   ]
  },
  {
   "cell_type": "code",
   "outputs": [],
   "source": [
    "%run ISTFtrainer.py --data PEMS08 --checkpoint '/logs/epoch40_20240615'PEMS08/best_model.pth"
   ],
   "metadata": {
    "collapsed": false
   },
   "id": "a192224292eb48f5",
   "execution_count": null
  },
  {
   "cell_type": "code",
   "outputs": [],
   "source": [
    "%run ISTFtrainer.py --data bike_drop --epochs 1 --save './NYC/bike_drop_epoch1'"
   ],
   "metadata": {
    "collapsed": false
   },
   "id": "84dfd7865bfa8fbc",
   "execution_count": null
  }
 ],
 "metadata": {
  "kernelspec": {
   "display_name": "Python 3",
   "language": "python",
   "name": "python3"
  },
  "language_info": {
   "codemirror_mode": {
    "name": "ipython",
    "version": 2
   },
   "file_extension": ".py",
   "mimetype": "text/x-python",
   "name": "python",
   "nbconvert_exporter": "python",
   "pygments_lexer": "ipython2",
   "version": "2.7.6"
  }
 },
 "nbformat": 4,
 "nbformat_minor": 5
}
